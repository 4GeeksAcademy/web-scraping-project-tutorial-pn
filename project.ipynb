{
 "cells": [
  {
   "cell_type": "code",
   "execution_count": 20,
   "metadata": {},
   "outputs": [],
   "source": [
    "import os\n",
    "from bs4 import BeautifulSoup\n",
    "import requests\n",
    "import time\n",
    "import sqlite3\n",
    "import matplotlib.pyplot as plt\n",
    "import seaborn as sns\n",
    "import pandas as pd\n",
    "import re\n"
   ]
  },
  {
   "cell_type": "code",
   "execution_count": 3,
   "metadata": {},
   "outputs": [],
   "source": [
    "resource_url = \"https://companies-market-cap-copy.vercel.app/index.html\"\n",
    "\n",
    "response = requests.get(resource_url)\n",
    "\n",
    "if response:\n",
    "    # We transform the flat HTML into real HTML (structured and nested, tree-like)\n",
    "    soup = BeautifulSoup(response.text, 'html')\n",
    "    soup"
   ]
  },
  {
   "cell_type": "code",
   "execution_count": 5,
   "metadata": {},
   "outputs": [],
   "source": [
    "years = soup.find_all(\"span\", class_=\"year\")\n",
    "\n"
   ]
  },
  {
   "cell_type": "code",
   "execution_count": 6,
   "metadata": {},
   "outputs": [],
   "source": [
    "format_years = []\n",
    "for year in years:\n",
    "    format_years.append(year.text)"
   ]
  },
  {
   "cell_type": "code",
   "execution_count": 7,
   "metadata": {},
   "outputs": [
    {
     "data": {
      "text/plain": [
       "['2024',\n",
       " '2023',\n",
       " '2022',\n",
       " '2021',\n",
       " '2020',\n",
       " '2019',\n",
       " '2018',\n",
       " '2017',\n",
       " '2016',\n",
       " '2015',\n",
       " '2014',\n",
       " '2013',\n",
       " '2012',\n",
       " '2011',\n",
       " '2010',\n",
       " '2009']"
      ]
     },
     "execution_count": 7,
     "metadata": {},
     "output_type": "execute_result"
    }
   ],
   "source": [
    "format_years"
   ]
  },
  {
   "cell_type": "code",
   "execution_count": 14,
   "metadata": {},
   "outputs": [
    {
     "data": {
      "text/plain": [
       "[<td><span class=\"year\">2024</span></td>,\n",
       " <td>$97.15 B</td>,\n",
       " <td class=\"percentage-green\">0.39%</td>,\n",
       " <td><span class=\"year\">2023</span> </td>,\n",
       " <td>$96.77 B</td>,\n",
       " <td class=\"percentage-green\">18.8%</td>,\n",
       " <td><span class=\"year\">2022</span></td>,\n",
       " <td>$81.46 B</td>,\n",
       " <td class=\"percentage-green\">51.35%</td>,\n",
       " <td><span class=\"year\">2021</span></td>,\n",
       " <td>$53.82 B</td>,\n",
       " <td class=\"percentage-green\">70.67%</td>,\n",
       " <td><span class=\"year\">2020</span></td>,\n",
       " <td>$31.53 B</td>,\n",
       " <td class=\"percentage-green\">28.31%</td>,\n",
       " <td><span class=\"year\">2019</span></td>,\n",
       " <td>$24.57 B</td>,\n",
       " <td class=\"percentage-green\">14.52%</td>,\n",
       " <td><span class=\"year\">2018</span></td>,\n",
       " <td>$21.46 B</td>,\n",
       " <td class=\"percentage-green\">82.51%</td>,\n",
       " <td><span class=\"year\">2017</span></td>,\n",
       " <td>$11.75 B</td>,\n",
       " <td class=\"percentage-green\">67.98%</td>,\n",
       " <td><span class=\"year\">2016</span></td>,\n",
       " <td>$7.00 B</td>,\n",
       " <td class=\"percentage-green\">73.01%</td>,\n",
       " <td><span class=\"year\">2015</span></td>,\n",
       " <td>$4.04 B</td>,\n",
       " <td class=\"percentage-green\">26.5%</td>,\n",
       " <td><span class=\"year\">2014</span></td>,\n",
       " <td>$3.19 B</td>,\n",
       " <td class=\"percentage-green\">58.85%</td>,\n",
       " <td><span class=\"year\">2013</span></td>,\n",
       " <td>$2.01 B</td>,\n",
       " <td class=\"percentage-green\">387.23%</td>,\n",
       " <td><span class=\"year\">2012</span></td>,\n",
       " <td>$0.41 B</td>,\n",
       " <td class=\"percentage-green\">102.34%</td>,\n",
       " <td><span class=\"year\">2011</span></td>,\n",
       " <td>$0.20 B</td>,\n",
       " <td class=\"percentage-green\">74.95%</td>,\n",
       " <td><span class=\"year\">2010</span></td>,\n",
       " <td>$0.11 B</td>,\n",
       " <td class=\"percentage-green\">4.29%</td>,\n",
       " <td><span class=\"year\">2009</span> </td>,\n",
       " <td>$0.11 B</td>,\n",
       " <td></td>,\n",
       " <td class=\"name-td\"><a href=\"/apple/revenue/\" style=\"pointer-events: none;\"><div class=\"float-left pt-1\"></div><div class=\"name-div\"><div class=\"company-name\">Apple</div><div class=\"company-code\"><span class=\"rank d-none\"></span>AAPL</div></div></a></td>,\n",
       " <td>$391.03 B</td>,\n",
       " <td><span class=\"percentage-green\"> 302.51%</span></td>,\n",
       " <td> <span class=\"responsive-hidden\">USA</span></td>,\n",
       " <td class=\"name-td\"><a href=\"/rivian/revenue/\"><div class=\"float-left pt-1\"> </div><div class=\"name-div\"><div class=\"company-name\">Rivian</div><div class=\"company-code\"><span class=\"rank d-none\"></span>RIVN</div></div></a></td>,\n",
       " <td>$4.55 B</td>,\n",
       " <td><span class=\"percentage-red\">-95.32%</span></td>,\n",
       " <td> <span class=\"responsive-hidden\">USA</span></td>,\n",
       " <td class=\"name-td\"><a href=\"/lucid-motors/revenue/\"><div class=\"float-left pt-1\"></div><div class=\"name-div\"><div class=\"company-name\">Lucid Motors</div><div class=\"company-code\"><span class=\"rank d-none\"></span>LCID</div></div></a></td>,\n",
       " <td>$0.73 B</td>,\n",
       " <td><span class=\"percentage-red\">-99.25%</span></td>,\n",
       " <td> <span class=\"responsive-hidden\">USA</span></td>,\n",
       " <td class=\"name-td\"><a href=\"/nio/revenue/\"><div class=\"float-left pt-1\"></div><div class=\"name-div\"><div class=\"company-name\">NIO</div><div class=\"company-code\"><span class=\"rank d-none\"></span>NIO</div></div></a></td>,\n",
       " <td>$8.85 B</td>,\n",
       " <td><span class=\"percentage-red\">-90.88%</span></td>,\n",
       " <td> <span class=\"responsive-hidden\">China</span></td>]"
      ]
     },
     "execution_count": 14,
     "metadata": {},
     "output_type": "execute_result"
    }
   ],
   "source": [
    "\n",
    "tds = soup.find_all(\"td\")\n",
    "tds"
   ]
  },
  {
   "cell_type": "code",
   "execution_count": 10,
   "metadata": {},
   "outputs": [],
   "source": [
    "values = []\n",
    "for td in tds:\n",
    "    if \"$\" in td.text:\n",
    "        values.append(td.text)"
   ]
  },
  {
   "cell_type": "code",
   "execution_count": 18,
   "metadata": {},
   "outputs": [],
   "source": [
    "clean_val = []\n",
    "for value in values:\n",
    "    clean_val.append(re.sub(r'[^0-9.]', '', value))"
   ]
  },
  {
   "cell_type": "code",
   "execution_count": 19,
   "metadata": {},
   "outputs": [
    {
     "data": {
      "text/plain": [
       "['97.15',\n",
       " '96.77',\n",
       " '81.46',\n",
       " '53.82',\n",
       " '31.53',\n",
       " '24.57',\n",
       " '21.46',\n",
       " '11.75',\n",
       " '7.00',\n",
       " '4.04',\n",
       " '3.19',\n",
       " '2.01',\n",
       " '0.41',\n",
       " '0.20',\n",
       " '0.11',\n",
       " '0.11']"
      ]
     },
     "execution_count": 19,
     "metadata": {},
     "output_type": "execute_result"
    }
   ],
   "source": [
    "del(clean_val[-1])\n",
    "del(clean_val[-1])\n",
    "del(clean_val[-1])\n",
    "del(clean_val[-1])\n",
    "clean_val"
   ]
  },
  {
   "cell_type": "code",
   "execution_count": 32,
   "metadata": {},
   "outputs": [],
   "source": [
    "dict = {'value': clean_val, 'years': format_years}\n",
    "df = pd.DataFrame(dict)"
   ]
  },
  {
   "cell_type": "code",
   "execution_count": 33,
   "metadata": {},
   "outputs": [
    {
     "data": {
      "text/html": [
       "<div>\n",
       "<style scoped>\n",
       "    .dataframe tbody tr th:only-of-type {\n",
       "        vertical-align: middle;\n",
       "    }\n",
       "\n",
       "    .dataframe tbody tr th {\n",
       "        vertical-align: top;\n",
       "    }\n",
       "\n",
       "    .dataframe thead th {\n",
       "        text-align: right;\n",
       "    }\n",
       "</style>\n",
       "<table border=\"1\" class=\"dataframe\">\n",
       "  <thead>\n",
       "    <tr style=\"text-align: right;\">\n",
       "      <th></th>\n",
       "      <th>value</th>\n",
       "      <th>years</th>\n",
       "    </tr>\n",
       "  </thead>\n",
       "  <tbody>\n",
       "    <tr>\n",
       "      <th>0</th>\n",
       "      <td>97.15</td>\n",
       "      <td>2024</td>\n",
       "    </tr>\n",
       "    <tr>\n",
       "      <th>1</th>\n",
       "      <td>96.77</td>\n",
       "      <td>2023</td>\n",
       "    </tr>\n",
       "    <tr>\n",
       "      <th>2</th>\n",
       "      <td>81.46</td>\n",
       "      <td>2022</td>\n",
       "    </tr>\n",
       "    <tr>\n",
       "      <th>3</th>\n",
       "      <td>53.82</td>\n",
       "      <td>2021</td>\n",
       "    </tr>\n",
       "    <tr>\n",
       "      <th>4</th>\n",
       "      <td>31.53</td>\n",
       "      <td>2020</td>\n",
       "    </tr>\n",
       "    <tr>\n",
       "      <th>5</th>\n",
       "      <td>24.57</td>\n",
       "      <td>2019</td>\n",
       "    </tr>\n",
       "    <tr>\n",
       "      <th>6</th>\n",
       "      <td>21.46</td>\n",
       "      <td>2018</td>\n",
       "    </tr>\n",
       "    <tr>\n",
       "      <th>7</th>\n",
       "      <td>11.75</td>\n",
       "      <td>2017</td>\n",
       "    </tr>\n",
       "    <tr>\n",
       "      <th>8</th>\n",
       "      <td>7.00</td>\n",
       "      <td>2016</td>\n",
       "    </tr>\n",
       "    <tr>\n",
       "      <th>9</th>\n",
       "      <td>4.04</td>\n",
       "      <td>2015</td>\n",
       "    </tr>\n",
       "    <tr>\n",
       "      <th>10</th>\n",
       "      <td>3.19</td>\n",
       "      <td>2014</td>\n",
       "    </tr>\n",
       "    <tr>\n",
       "      <th>11</th>\n",
       "      <td>2.01</td>\n",
       "      <td>2013</td>\n",
       "    </tr>\n",
       "    <tr>\n",
       "      <th>12</th>\n",
       "      <td>0.41</td>\n",
       "      <td>2012</td>\n",
       "    </tr>\n",
       "    <tr>\n",
       "      <th>13</th>\n",
       "      <td>0.20</td>\n",
       "      <td>2011</td>\n",
       "    </tr>\n",
       "    <tr>\n",
       "      <th>14</th>\n",
       "      <td>0.11</td>\n",
       "      <td>2010</td>\n",
       "    </tr>\n",
       "    <tr>\n",
       "      <th>15</th>\n",
       "      <td>0.11</td>\n",
       "      <td>2009</td>\n",
       "    </tr>\n",
       "  </tbody>\n",
       "</table>\n",
       "</div>"
      ],
      "text/plain": [
       "    value years\n",
       "0   97.15  2024\n",
       "1   96.77  2023\n",
       "2   81.46  2022\n",
       "3   53.82  2021\n",
       "4   31.53  2020\n",
       "5   24.57  2019\n",
       "6   21.46  2018\n",
       "7   11.75  2017\n",
       "8    7.00  2016\n",
       "9    4.04  2015\n",
       "10   3.19  2014\n",
       "11   2.01  2013\n",
       "12   0.41  2012\n",
       "13   0.20  2011\n",
       "14   0.11  2010\n",
       "15   0.11  2009"
      ]
     },
     "execution_count": 33,
     "metadata": {},
     "output_type": "execute_result"
    }
   ],
   "source": [
    "df"
   ]
  },
  {
   "cell_type": "code",
   "execution_count": 25,
   "metadata": {},
   "outputs": [],
   "source": [
    "conn = sqlite3.connect(\"tesla_revenues.db\")\n",
    "cursor = conn.cursor()"
   ]
  },
  {
   "cell_type": "code",
   "execution_count": 36,
   "metadata": {},
   "outputs": [
    {
     "data": {
      "text/plain": [
       "<sqlite3.Cursor at 0x7fe1af2a8040>"
      ]
     },
     "execution_count": 36,
     "metadata": {},
     "output_type": "execute_result"
    }
   ],
   "source": [
    "cursor.execute(\"\"\"\n",
    "CREATE TABLE IF NOT EXISTS revenue (\n",
    "    date TEXT,\n",
    "    revenue REAL\n",
    ")\n",
    "\"\"\")"
   ]
  },
  {
   "cell_type": "code",
   "execution_count": 37,
   "metadata": {},
   "outputs": [
    {
     "ename": "ProgrammingError",
     "evalue": "Error binding parameter 1: type 'Series' is not supported",
     "output_type": "error",
     "traceback": [
      "\u001b[0;31m---------------------------------------------------------------------------\u001b[0m",
      "\u001b[0;31mProgrammingError\u001b[0m                          Traceback (most recent call last)",
      "Cell \u001b[0;32mIn[37], line 2\u001b[0m\n\u001b[1;32m      1\u001b[0m \u001b[38;5;28;01mfor\u001b[39;00m index, row \u001b[38;5;129;01min\u001b[39;00m df\u001b[38;5;241m.\u001b[39miterrows():\n\u001b[0;32m----> 2\u001b[0m     \u001b[43mcursor\u001b[49m\u001b[38;5;241;43m.\u001b[39;49m\u001b[43mexecute\u001b[49m\u001b[43m(\u001b[49m\u001b[38;5;124;43m\"\u001b[39;49m\u001b[38;5;124;43mINSERT INTO revenue (date, revenue) VALUES (?, ?)\u001b[39;49m\u001b[38;5;124;43m\"\u001b[39;49m\u001b[43m,\u001b[49m\u001b[43m \u001b[49m\u001b[43m(\u001b[49m\u001b[43mdf\u001b[49m\u001b[43m[\u001b[49m\u001b[38;5;124;43m\"\u001b[39;49m\u001b[38;5;124;43myears\u001b[39;49m\u001b[38;5;124;43m\"\u001b[39;49m\u001b[43m]\u001b[49m\u001b[43m,\u001b[49m\u001b[43m \u001b[49m\u001b[43mdf\u001b[49m\u001b[43m[\u001b[49m\u001b[38;5;124;43m\"\u001b[39;49m\u001b[38;5;124;43mvalue\u001b[39;49m\u001b[38;5;124;43m\"\u001b[39;49m\u001b[43m]\u001b[49m\u001b[43m)\u001b[49m\u001b[43m)\u001b[49m\n\u001b[1;32m      4\u001b[0m conn\u001b[38;5;241m.\u001b[39mcommit()\n\u001b[1;32m      5\u001b[0m conn\u001b[38;5;241m.\u001b[39mclose()\n",
      "\u001b[0;31mProgrammingError\u001b[0m: Error binding parameter 1: type 'Series' is not supported"
     ]
    }
   ],
   "source": [
    "for index, row in df.iterrows():\n",
    "    cursor.execute(\"INSERT INTO revenue (date, revenue) VALUES (?, ?)\", (df[\"years\"], df[\"value\"]))\n",
    "\n",
    "conn.commit()\n",
    "conn.close()"
   ]
  },
  {
   "cell_type": "code",
   "execution_count": 41,
   "metadata": {},
   "outputs": [
    {
     "data": {
      "text/plain": [
       "[<matplotlib.lines.Line2D at 0x7fe1a7efbd10>]"
      ]
     },
     "execution_count": 41,
     "metadata": {},
     "output_type": "execute_result"
    },
    {
     "data": {
      "image/png": "[encoded data removed]",
      "text/plain": [
       "<Figure size 1000x600 with 1 Axes>"
      ]
     },
     "metadata": {},
     "output_type": "display_data"
    }
   ],
   "source": [
    "plt.figure(figsize=(10, 6))\n",
    "plt.plot(df[\"years\"], df[\"value\"])"
   ]
  }
 ],
 "metadata": {
  "kernelspec": {
   "display_name": "Python 3",
   "language": "python",
   "name": "python3"
  },
  "language_info": {
   "codemirror_mode": {
    "name": "ipython",
    "version": 3
   },
   "file_extension": ".py",
   "mimetype": "text/x-python",
   "name": "python",
   "nbconvert_exporter": "python",
   "pygments_lexer": "ipython3",
   "version": "3.11.4"
  }
 },
 "nbformat": 4,
 "nbformat_minor": 2
}
