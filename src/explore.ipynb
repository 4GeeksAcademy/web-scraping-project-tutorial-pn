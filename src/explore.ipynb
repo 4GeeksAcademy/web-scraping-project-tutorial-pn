{
    "cells": [
        {
            "cell_type": "markdown",
            "metadata": {},
            "source": [
                "# Explore here\n",
                "\n",
                "It's recommended to use this notebook for exploration purposes."
            ]
        },
        {
            "cell_type": "code",
            "execution_count": 55,
            "metadata": {},
            "outputs": [],
            "source": [
                "import os\n",
                "from bs4 import BeautifulSoup\n",
                "import requests\n",
                "import time\n",
                "import sqlite3\n",
                "import matplotlib.pyplot as plt\n",
                "import seaborn as sns\n",
                "import pandas as pd\n",
                "\n"
            ]
        },
        {
            "cell_type": "code",
            "execution_count": 2,
            "metadata": {},
            "outputs": [],
            "source": [
                "resource_url = \"https://companies-market-cap-copy.vercel.app/index.html\"\n",
                "\n",
                "response = requests.get(resource_url, time.sleep(10))\n",
                "\n",
                "# If the request has been executed correctly (code 200), then the HTML content of the page has been downloaded\n",
                "if response:\n",
                "    # We transform the flat HTML into real HTML (structured and nested, tree-like)\n",
                "    soup = BeautifulSoup(response.text, 'html')\n",
                "    soup"
            ]
        },
        {
            "cell_type": "code",
            "execution_count": 4,
            "metadata": {},
            "outputs": [],
            "source": [
                "# soup"
            ]
        },
        {
            "cell_type": "code",
            "execution_count": 7,
            "metadata": {},
            "outputs": [
                {
                    "data": {
                        "text/plain": [
                            "[<span class=\"year\">2024</span>,\n",
                            " <span class=\"year\">2023</span>,\n",
                            " <span class=\"year\">2022</span>,\n",
                            " <span class=\"year\">2021</span>,\n",
                            " <span class=\"year\">2020</span>,\n",
                            " <span class=\"year\">2019</span>,\n",
                            " <span class=\"year\">2018</span>,\n",
                            " <span class=\"year\">2017</span>,\n",
                            " <span class=\"year\">2016</span>,\n",
                            " <span class=\"year\">2015</span>,\n",
                            " <span class=\"year\">2014</span>,\n",
                            " <span class=\"year\">2013</span>,\n",
                            " <span class=\"year\">2012</span>,\n",
                            " <span class=\"year\">2011</span>,\n",
                            " <span class=\"year\">2010</span>,\n",
                            " <span class=\"year\">2009</span>]"
                        ]
                    },
                    "execution_count": 7,
                    "metadata": {},
                    "output_type": "execute_result"
                }
            ],
            "source": [
                "years = soup.find_all(\"span\", class_=\"year\")\n",
                "years"
            ]
        },
        {
            "cell_type": "code",
            "execution_count": 53,
            "metadata": {},
            "outputs": [
                {
                    "data": {
                        "text/plain": [
                            "['2024',\n",
                            " '2023',\n",
                            " '2022',\n",
                            " '2021',\n",
                            " '2020',\n",
                            " '2019',\n",
                            " '2018',\n",
                            " '2017',\n",
                            " '2016',\n",
                            " '2015',\n",
                            " '2014',\n",
                            " '2013',\n",
                            " '2012',\n",
                            " '2011',\n",
                            " '2010',\n",
                            " '2009']"
                        ]
                    },
                    "execution_count": 53,
                    "metadata": {},
                    "output_type": "execute_result"
                }
            ],
            "source": [
                "for i in range(len(years)):\n",
                "    years[i] = years[i].text\n",
                "years"
            ]
        },
        {
            "cell_type": "code",
            "execution_count": 54,
            "metadata": {},
            "outputs": [
                {
                    "data": {
                        "text/plain": [
                            "[2024,\n",
                            " 2023,\n",
                            " 2022,\n",
                            " 2021,\n",
                            " 2020,\n",
                            " 2019,\n",
                            " 2018,\n",
                            " 2017,\n",
                            " 2016,\n",
                            " 2015,\n",
                            " 2014,\n",
                            " 2013,\n",
                            " 2012,\n",
                            " 2011,\n",
                            " 2010,\n",
                            " 2009]"
                        ]
                    },
                    "execution_count": 54,
                    "metadata": {},
                    "output_type": "execute_result"
                }
            ],
            "source": [
                "for i in range(len(years)):\n",
                "    years[i] = int(years[i])\n",
                "years"
            ]
        },
        {
            "cell_type": "code",
            "execution_count": 46,
            "metadata": {},
            "outputs": [
                {
                    "data": {
                        "text/plain": [
                            "[None,\n",
                            " <re.Match object; span=(0, 6), match='$97.15'>,\n",
                            " None,\n",
                            " None,\n",
                            " <re.Match object; span=(0, 6), match='$96.77'>,\n",
                            " None,\n",
                            " None,\n",
                            " <re.Match object; span=(0, 6), match='$81.46'>,\n",
                            " None,\n",
                            " None,\n",
                            " <re.Match object; span=(0, 6), match='$53.82'>,\n",
                            " None,\n",
                            " None,\n",
                            " <re.Match object; span=(0, 6), match='$31.53'>,\n",
                            " None,\n",
                            " None,\n",
                            " <re.Match object; span=(0, 6), match='$24.57'>,\n",
                            " None,\n",
                            " None,\n",
                            " <re.Match object; span=(0, 6), match='$21.46'>,\n",
                            " None,\n",
                            " None,\n",
                            " <re.Match object; span=(0, 6), match='$11.75'>,\n",
                            " None,\n",
                            " None,\n",
                            " <re.Match object; span=(0, 5), match='$7.00'>,\n",
                            " None,\n",
                            " None,\n",
                            " <re.Match object; span=(0, 5), match='$4.04'>,\n",
                            " None,\n",
                            " None,\n",
                            " <re.Match object; span=(0, 5), match='$3.19'>,\n",
                            " None,\n",
                            " None,\n",
                            " <re.Match object; span=(0, 5), match='$2.01'>,\n",
                            " None,\n",
                            " None,\n",
                            " <re.Match object; span=(0, 5), match='$0.41'>,\n",
                            " None,\n",
                            " None,\n",
                            " <re.Match object; span=(0, 5), match='$0.20'>,\n",
                            " None,\n",
                            " None,\n",
                            " <re.Match object; span=(0, 5), match='$0.11'>,\n",
                            " None,\n",
                            " None,\n",
                            " <re.Match object; span=(0, 5), match='$0.11'>,\n",
                            " None,\n",
                            " None,\n",
                            " <re.Match object; span=(0, 7), match='$391.03'>,\n",
                            " None,\n",
                            " None,\n",
                            " None,\n",
                            " <re.Match object; span=(0, 5), match='$4.55'>,\n",
                            " None,\n",
                            " None,\n",
                            " None,\n",
                            " <re.Match object; span=(0, 5), match='$0.73'>,\n",
                            " None,\n",
                            " None,\n",
                            " None,\n",
                            " <re.Match object; span=(0, 5), match='$8.85'>,\n",
                            " None,\n",
                            " None]"
                        ]
                    },
                    "execution_count": 46,
                    "metadata": {},
                    "output_type": "execute_result"
                }
            ],
            "source": [
                "import re\n",
                "\n",
                "# Get all elements of type 'span' from HTML document\n",
                "tds = soup.find_all(\"td\")\n",
                "prices = []\n",
                "\n",
                "# We iterate through each of the results to find the element that contains the given amount. Since the amount we are looking for is the first of all, we search for it (for example, with a regular expression) and when we find it, we print its value\n",
                "for td in tds:\n",
                "    prices.append(re.search(r'\\$\\w+\\.\\d*', td.text))\n",
                "\n",
                "prices\n"
            ]
        },
        {
            "cell_type": "code",
            "execution_count": 47,
            "metadata": {},
            "outputs": [
                {
                    "data": {
                        "text/plain": [
                            "[<re.Match object; span=(0, 6), match='$97.15'>,\n",
                            " <re.Match object; span=(0, 6), match='$96.77'>,\n",
                            " <re.Match object; span=(0, 6), match='$81.46'>,\n",
                            " <re.Match object; span=(0, 6), match='$53.82'>,\n",
                            " <re.Match object; span=(0, 6), match='$31.53'>,\n",
                            " <re.Match object; span=(0, 6), match='$24.57'>,\n",
                            " <re.Match object; span=(0, 6), match='$21.46'>,\n",
                            " <re.Match object; span=(0, 6), match='$11.75'>,\n",
                            " <re.Match object; span=(0, 5), match='$7.00'>,\n",
                            " <re.Match object; span=(0, 5), match='$4.04'>,\n",
                            " <re.Match object; span=(0, 5), match='$3.19'>,\n",
                            " <re.Match object; span=(0, 5), match='$2.01'>,\n",
                            " <re.Match object; span=(0, 5), match='$0.41'>,\n",
                            " <re.Match object; span=(0, 5), match='$0.20'>,\n",
                            " <re.Match object; span=(0, 5), match='$0.11'>,\n",
                            " <re.Match object; span=(0, 5), match='$0.11'>]"
                        ]
                    },
                    "execution_count": 47,
                    "metadata": {},
                    "output_type": "execute_result"
                }
            ],
            "source": [
                "\n",
                "prices = [x for x in prices if x is not None] \n",
                "prices = prices[0:16]\n",
                "prices"
            ]
        },
        {
            "cell_type": "code",
            "execution_count": 48,
            "metadata": {},
            "outputs": [
                {
                    "data": {
                        "text/plain": [
                            "['$97.15',\n",
                            " '$96.77',\n",
                            " '$81.46',\n",
                            " '$53.82',\n",
                            " '$31.53',\n",
                            " '$24.57',\n",
                            " '$21.46',\n",
                            " '$11.75',\n",
                            " '$7.00',\n",
                            " '$4.04',\n",
                            " '$3.19',\n",
                            " '$2.01',\n",
                            " '$0.41',\n",
                            " '$0.20',\n",
                            " '$0.11',\n",
                            " '$0.11']"
                        ]
                    },
                    "execution_count": 48,
                    "metadata": {},
                    "output_type": "execute_result"
                }
            ],
            "source": [
                "for i in range(len(prices)):\n",
                "    prices[i] = prices[i].group(0)\n",
                "prices"
            ]
        },
        {
            "cell_type": "code",
            "execution_count": 49,
            "metadata": {},
            "outputs": [
                {
                    "data": {
                        "text/plain": [
                            "['97.15',\n",
                            " '96.77',\n",
                            " '81.46',\n",
                            " '53.82',\n",
                            " '31.53',\n",
                            " '24.57',\n",
                            " '21.46',\n",
                            " '11.75',\n",
                            " '7.00',\n",
                            " '4.04',\n",
                            " '3.19',\n",
                            " '2.01',\n",
                            " '0.41',\n",
                            " '0.20',\n",
                            " '0.11',\n",
                            " '0.11']"
                        ]
                    },
                    "execution_count": 49,
                    "metadata": {},
                    "output_type": "execute_result"
                }
            ],
            "source": [
                "for i in range(len(prices)):\n",
                "    prices[i] = prices[i][1:]\n",
                "prices"
            ]
        },
        {
            "cell_type": "code",
            "execution_count": 51,
            "metadata": {},
            "outputs": [
                {
                    "data": {
                        "text/plain": [
                            "[97.15,\n",
                            " 96.77,\n",
                            " 81.46,\n",
                            " 53.82,\n",
                            " 31.53,\n",
                            " 24.57,\n",
                            " 21.46,\n",
                            " 11.75,\n",
                            " 7.0,\n",
                            " 4.04,\n",
                            " 3.19,\n",
                            " 2.01,\n",
                            " 0.41,\n",
                            " 0.2,\n",
                            " 0.11,\n",
                            " 0.11]"
                        ]
                    },
                    "execution_count": 51,
                    "metadata": {},
                    "output_type": "execute_result"
                }
            ],
            "source": [
                "for i in range(len(prices)):\n",
                "    prices[i] = float(prices[i])\n",
                "prices"
            ]
        },
        {
            "cell_type": "code",
            "execution_count": 85,
            "metadata": {},
            "outputs": [
                {
                    "data": {
                        "image/png": "[encoded data removed]",
                        "text/plain": [
                            "<Figure size 640x480 with 1 Axes>"
                        ]
                    },
                    "metadata": {},
                    "output_type": "display_data"
                },
                {
                    "data": {
                        "text/html": [
                            "<div>\n",
                            "<style scoped>\n",
                            "    .dataframe tbody tr th:only-of-type {\n",
                            "        vertical-align: middle;\n",
                            "    }\n",
                            "\n",
                            "    .dataframe tbody tr th {\n",
                            "        vertical-align: top;\n",
                            "    }\n",
                            "\n",
                            "    .dataframe thead th {\n",
                            "        text-align: right;\n",
                            "    }\n",
                            "</style>\n",
                            "<table border=\"1\" class=\"dataframe\">\n",
                            "  <thead>\n",
                            "    <tr style=\"text-align: right;\">\n",
                            "      <th></th>\n",
                            "      <th>year</th>\n",
                            "      <th>price</th>\n",
                            "    </tr>\n",
                            "  </thead>\n",
                            "  <tbody>\n",
                            "    <tr>\n",
                            "      <th>0</th>\n",
                            "      <td>2024</td>\n",
                            "      <td>97.15</td>\n",
                            "    </tr>\n",
                            "    <tr>\n",
                            "      <th>1</th>\n",
                            "      <td>2023</td>\n",
                            "      <td>96.77</td>\n",
                            "    </tr>\n",
                            "    <tr>\n",
                            "      <th>2</th>\n",
                            "      <td>2022</td>\n",
                            "      <td>81.46</td>\n",
                            "    </tr>\n",
                            "    <tr>\n",
                            "      <th>3</th>\n",
                            "      <td>2021</td>\n",
                            "      <td>53.82</td>\n",
                            "    </tr>\n",
                            "    <tr>\n",
                            "      <th>4</th>\n",
                            "      <td>2020</td>\n",
                            "      <td>31.53</td>\n",
                            "    </tr>\n",
                            "    <tr>\n",
                            "      <th>5</th>\n",
                            "      <td>2019</td>\n",
                            "      <td>24.57</td>\n",
                            "    </tr>\n",
                            "    <tr>\n",
                            "      <th>6</th>\n",
                            "      <td>2018</td>\n",
                            "      <td>21.46</td>\n",
                            "    </tr>\n",
                            "    <tr>\n",
                            "      <th>7</th>\n",
                            "      <td>2017</td>\n",
                            "      <td>11.75</td>\n",
                            "    </tr>\n",
                            "    <tr>\n",
                            "      <th>8</th>\n",
                            "      <td>2016</td>\n",
                            "      <td>7.00</td>\n",
                            "    </tr>\n",
                            "    <tr>\n",
                            "      <th>9</th>\n",
                            "      <td>2015</td>\n",
                            "      <td>4.04</td>\n",
                            "    </tr>\n",
                            "    <tr>\n",
                            "      <th>10</th>\n",
                            "      <td>2014</td>\n",
                            "      <td>3.19</td>\n",
                            "    </tr>\n",
                            "    <tr>\n",
                            "      <th>11</th>\n",
                            "      <td>2013</td>\n",
                            "      <td>2.01</td>\n",
                            "    </tr>\n",
                            "    <tr>\n",
                            "      <th>12</th>\n",
                            "      <td>2012</td>\n",
                            "      <td>0.41</td>\n",
                            "    </tr>\n",
                            "    <tr>\n",
                            "      <th>13</th>\n",
                            "      <td>2011</td>\n",
                            "      <td>0.20</td>\n",
                            "    </tr>\n",
                            "    <tr>\n",
                            "      <th>14</th>\n",
                            "      <td>2010</td>\n",
                            "      <td>0.11</td>\n",
                            "    </tr>\n",
                            "    <tr>\n",
                            "      <th>15</th>\n",
                            "      <td>2009</td>\n",
                            "      <td>0.11</td>\n",
                            "    </tr>\n",
                            "  </tbody>\n",
                            "</table>\n",
                            "</div>"
                        ],
                        "text/plain": [
                            "    year  price\n",
                            "0   2024  97.15\n",
                            "1   2023  96.77\n",
                            "2   2022  81.46\n",
                            "3   2021  53.82\n",
                            "4   2020  31.53\n",
                            "5   2019  24.57\n",
                            "6   2018  21.46\n",
                            "7   2017  11.75\n",
                            "8   2016   7.00\n",
                            "9   2015   4.04\n",
                            "10  2014   3.19\n",
                            "11  2013   2.01\n",
                            "12  2012   0.41\n",
                            "13  2011   0.20\n",
                            "14  2010   0.11\n",
                            "15  2009   0.11"
                        ]
                    },
                    "execution_count": 85,
                    "metadata": {},
                    "output_type": "execute_result"
                }
            ],
            "source": [
                "\n",
                "df = pd.DataFrame()\n",
                "df['year'] = years\n",
                "df['price'] = prices\n",
                "\n",
                "plt.plot(df['year'], df['price'])\n",
                "plt.title(\"Tesla Stock Prices\")\n",
                "\n",
                "plt.legend([\"Price\"])\n",
                "plt.show()\n",
                "df"
            ]
        },
        {
            "cell_type": "code",
            "execution_count": 86,
            "metadata": {},
            "outputs": [
                {
                    "data": {
                        "text/html": [
                            "<div>\n",
                            "<style scoped>\n",
                            "    .dataframe tbody tr th:only-of-type {\n",
                            "        vertical-align: middle;\n",
                            "    }\n",
                            "\n",
                            "    .dataframe tbody tr th {\n",
                            "        vertical-align: top;\n",
                            "    }\n",
                            "\n",
                            "    .dataframe thead th {\n",
                            "        text-align: right;\n",
                            "    }\n",
                            "</style>\n",
                            "<table border=\"1\" class=\"dataframe\">\n",
                            "  <thead>\n",
                            "    <tr style=\"text-align: right;\">\n",
                            "      <th></th>\n",
                            "      <th>year</th>\n",
                            "      <th>price</th>\n",
                            "    </tr>\n",
                            "  </thead>\n",
                            "  <tbody>\n",
                            "    <tr>\n",
                            "      <th>0</th>\n",
                            "      <td>2024</td>\n",
                            "      <td>97.15</td>\n",
                            "    </tr>\n",
                            "    <tr>\n",
                            "      <th>1</th>\n",
                            "      <td>2023</td>\n",
                            "      <td>96.77</td>\n",
                            "    </tr>\n",
                            "    <tr>\n",
                            "      <th>2</th>\n",
                            "      <td>2022</td>\n",
                            "      <td>81.46</td>\n",
                            "    </tr>\n",
                            "    <tr>\n",
                            "      <th>3</th>\n",
                            "      <td>2021</td>\n",
                            "      <td>53.82</td>\n",
                            "    </tr>\n",
                            "    <tr>\n",
                            "      <th>4</th>\n",
                            "      <td>2020</td>\n",
                            "      <td>31.53</td>\n",
                            "    </tr>\n",
                            "    <tr>\n",
                            "      <th>5</th>\n",
                            "      <td>2019</td>\n",
                            "      <td>24.57</td>\n",
                            "    </tr>\n",
                            "    <tr>\n",
                            "      <th>6</th>\n",
                            "      <td>2018</td>\n",
                            "      <td>21.46</td>\n",
                            "    </tr>\n",
                            "    <tr>\n",
                            "      <th>7</th>\n",
                            "      <td>2017</td>\n",
                            "      <td>11.75</td>\n",
                            "    </tr>\n",
                            "    <tr>\n",
                            "      <th>8</th>\n",
                            "      <td>2016</td>\n",
                            "      <td>7.00</td>\n",
                            "    </tr>\n",
                            "    <tr>\n",
                            "      <th>9</th>\n",
                            "      <td>2015</td>\n",
                            "      <td>4.04</td>\n",
                            "    </tr>\n",
                            "    <tr>\n",
                            "      <th>10</th>\n",
                            "      <td>2014</td>\n",
                            "      <td>3.19</td>\n",
                            "    </tr>\n",
                            "    <tr>\n",
                            "      <th>11</th>\n",
                            "      <td>2013</td>\n",
                            "      <td>2.01</td>\n",
                            "    </tr>\n",
                            "    <tr>\n",
                            "      <th>12</th>\n",
                            "      <td>2012</td>\n",
                            "      <td>0.41</td>\n",
                            "    </tr>\n",
                            "    <tr>\n",
                            "      <th>13</th>\n",
                            "      <td>2011</td>\n",
                            "      <td>0.20</td>\n",
                            "    </tr>\n",
                            "    <tr>\n",
                            "      <th>14</th>\n",
                            "      <td>2010</td>\n",
                            "      <td>0.11</td>\n",
                            "    </tr>\n",
                            "    <tr>\n",
                            "      <th>15</th>\n",
                            "      <td>2009</td>\n",
                            "      <td>0.11</td>\n",
                            "    </tr>\n",
                            "  </tbody>\n",
                            "</table>\n",
                            "</div>"
                        ],
                        "text/plain": [
                            "    year  price\n",
                            "0   2024  97.15\n",
                            "1   2023  96.77\n",
                            "2   2022  81.46\n",
                            "3   2021  53.82\n",
                            "4   2020  31.53\n",
                            "5   2019  24.57\n",
                            "6   2018  21.46\n",
                            "7   2017  11.75\n",
                            "8   2016   7.00\n",
                            "9   2015   4.04\n",
                            "10  2014   3.19\n",
                            "11  2013   2.01\n",
                            "12  2012   0.41\n",
                            "13  2011   0.20\n",
                            "14  2010   0.11\n",
                            "15  2009   0.11"
                        ]
                    },
                    "execution_count": 86,
                    "metadata": {},
                    "output_type": "execute_result"
                }
            ],
            "source": [
                "#Lol I really don't know any other ways to represent stock prices\n",
                "df\n"
            ]
        },
        {
            "cell_type": "code",
            "execution_count": 87,
            "metadata": {},
            "outputs": [],
            "source": [
                "conn = sqlite3.connect(\"tesla_revenue.db\")\n",
                "cursor = conn.cursor()"
            ]
        },
        {
            "cell_type": "code",
            "execution_count": 88,
            "metadata": {},
            "outputs": [
                {
                    "data": {
                        "text/plain": [
                            "<sqlite3.Cursor at 0x723f5b22e1c0>"
                        ]
                    },
                    "execution_count": 88,
                    "metadata": {},
                    "output_type": "execute_result"
                }
            ],
            "source": [
                "cursor.execute(\"\"\"\n",
                "CREATE TABLE IF NOT EXISTS revenue (\n",
                "    year TEXT,\n",
                "    price REAL\n",
                ")\n",
                "\"\"\")"
            ]
        },
        {
            "cell_type": "code",
            "execution_count": 89,
            "metadata": {},
            "outputs": [],
            "source": [
                "for index, row in df.iterrows():\n",
                "    cursor.execute(\"INSERT INTO revenue (year, price) VALUES (?, ?)\", (row[\"year\"], row[\"price\"]))\n",
                "\n",
                "conn.commit()\n",
                "conn.close()"
            ]
        }
    ],
    "metadata": {
        "kernelspec": {
            "display_name": "Python 3",
            "language": "python",
            "name": "python3"
        },
        "language_info": {
            "codemirror_mode": {
                "name": "ipython",
                "version": 3
            },
            "file_extension": ".py",
            "mimetype": "text/x-python",
            "name": "python",
            "nbconvert_exporter": "python",
            "pygments_lexer": "ipython3",
            "version": "3.11.4"
        },
        "orig_nbformat": 4
    },
    "nbformat": 4,
    "nbformat_minor": 2
}
